{
 "cells": [
  {
   "cell_type": "code",
   "execution_count": 3,
   "id": "56d30a14-3689-479d-b163-45a58df64544",
   "metadata": {},
   "outputs": [
    {
     "name": "stderr",
     "output_type": "stream",
     "text": [
      "/opt/miniconda3/envs/paddle/lib/python3.7/site-packages/skimage/morphology/_skeletonize.py:241: DeprecationWarning: `np.bool` is a deprecated alias for the builtin `bool`. To silence this warning, use `bool` by itself. Doing this will not modify any behavior and is safe. If you specifically wanted the numpy scalar type, use `np.bool_` here.\n",
      "Deprecated in NumPy 1.20; for more details and guidance: https://numpy.org/devdocs/release/1.20.0-notes.html#deprecations\n",
      "  0, 1, 1, 0, 0, 1, 0, 0, 0], dtype=np.bool)\n",
      "/opt/miniconda3/envs/paddle/lib/python3.7/site-packages/skimage/morphology/_skeletonize.py:256: DeprecationWarning: `np.bool` is a deprecated alias for the builtin `bool`. To silence this warning, use `bool` by itself. Doing this will not modify any behavior and is safe. If you specifically wanted the numpy scalar type, use `np.bool_` here.\n",
      "Deprecated in NumPy 1.20; for more details and guidance: https://numpy.org/devdocs/release/1.20.0-notes.html#deprecations\n",
      "  0, 0, 0, 0, 0, 0, 0, 0, 0], dtype=np.bool)\n"
     ]
    }
   ],
   "source": [
    "from paddleocr import PaddleOCR, draw_ocr"
   ]
  },
  {
   "cell_type": "code",
   "execution_count": 4,
   "id": "efd09a3e-fc82-4b2c-a20a-ada69a71141d",
   "metadata": {},
   "outputs": [
    {
     "name": "stdout",
     "output_type": "stream",
     "text": [
      "Namespace(cls_batch_num=6, cls_image_shape='3, 48, 192', cls_model_dir='/Users/starot/.paddleocr/2.1/cls', cls_thresh=0.9, det=True, det_algorithm='DB', det_db_box_thresh=0.5, det_db_thresh=0.3, det_db_unclip_ratio=1.6, det_east_cover_thresh=0.1, det_east_nms_thresh=0.2, det_east_score_thresh=0.8, det_limit_side_len=960, det_limit_type='max', det_model_dir='/Users/starot/.paddleocr/2.1/det/ch', drop_score=0.5, enable_mkldnn=False, gpu_mem=8000, image_dir='', ir_optim=True, label_list=['0', '180'], lang='ch', max_text_length=25, rec=True, rec_algorithm='CRNN', rec_batch_num=6, rec_char_dict_path='./ppocr/utils/ppocr_keys_v1.txt', rec_char_type='ch', rec_image_shape='3, 32, 320', rec_model_dir='/Users/starot/.paddleocr/2.1/rec/ch', use_angle_cls=True, use_dilation=False, use_gpu=True, use_pdserving=False, use_space_char=True, use_tensorrt=False, use_zero_copy_run=False)\n",
      "download https://paddleocr.bj.bcebos.com/dygraph_v2.0/ch/ch_ppocr_mobile_v2.0_det_infer.tar to /Users/starot/.paddleocr/2.1/det/ch/ch_ppocr_mobile_v2.0_det_infer.tar\n"
     ]
    },
    {
     "name": "stderr",
     "output_type": "stream",
     "text": [
      "100%|██████████| 3.16M/3.16M [00:06<00:00, 486kiB/s]\n",
      "  0%|          | 0.00/3.90M [00:00<?, ?iB/s]"
     ]
    },
    {
     "name": "stdout",
     "output_type": "stream",
     "text": [
      "download https://paddleocr.bj.bcebos.com/dygraph_v2.0/ch/ch_ppocr_mobile_v2.0_rec_infer.tar to /Users/starot/.paddleocr/2.1/rec/ch/ch_ppocr_mobile_v2.0_rec_infer.tar\n"
     ]
    },
    {
     "name": "stderr",
     "output_type": "stream",
     "text": [
      "100%|██████████| 3.90M/3.90M [00:09<00:00, 394kiB/s]\n",
      "  0%|          | 0.00/1.45M [00:00<?, ?iB/s]"
     ]
    },
    {
     "name": "stdout",
     "output_type": "stream",
     "text": [
      "download https://paddleocr.bj.bcebos.com/dygraph_v2.0/ch/ch_ppocr_mobile_v2.0_cls_infer.tar to /Users/starot/.paddleocr/2.1/cls/ch_ppocr_mobile_v2.0_cls_infer.tar\n"
     ]
    },
    {
     "name": "stderr",
     "output_type": "stream",
     "text": [
      "100%|██████████| 1.45M/1.45M [00:03<00:00, 379kiB/s]\n"
     ]
    }
   ],
   "source": [
    "# Paddleocr目前支持中英文、英文、法语、德语、韩语、日语，可以通过修改lang参数进行切换\n",
    "# 参数依次为`ch`, `en`, `french`, `german`, `korean`, `japan`。\n",
    "ocr = PaddleOCR(use_angle_cls=True, lang=\"ch\") # need to run only once to download and load model into memory"
   ]
  },
  {
   "cell_type": "code",
   "execution_count": 8,
   "id": "85055486-e0e9-41e4-92c7-d45ba6551387",
   "metadata": {},
   "outputs": [
    {
     "name": "stdout",
     "output_type": "stream",
     "text": [
      "[2021/05/08 17:25:32] root INFO: dt_boxes num : 9, elapse : 2.7810781002044678\n",
      "[2021/05/08 17:25:32] root INFO: cls num  : 9, elapse : 0.06737089157104492\n",
      "[2021/05/08 17:25:32] root INFO: rec_res num  : 9, elapse : 0.07045292854309082\n",
      "17.50\n",
      "12.00\n",
      "7.00\n",
      "3.00\n",
      "3.50\n",
      "3.00\n",
      "12.45\n",
      "3.00\n",
      "3.50\n"
     ]
    }
   ],
   "source": [
    "img_path = 'data/images/img4.png'\n",
    "result = ocr.ocr(img_path, cls=True)\n",
    "txts = [line[1][0] for line in result]\n",
    "# for line in result:\n",
    "#     print(line)\n",
    "for txt in txts:\n",
    "    print(txt)\n",
    "\n",
    "# 显示结果\n",
    "# from PIL import Image\n",
    "# image = Image.open(img_path).convert('RGB')\n",
    "# boxes = [line[0] for line in result]\n",
    "# txts = [line[1][0] for line in result]\n",
    "# scores = [line[1][1] for line in result]\n",
    "# im_show = draw_ocr(image, boxes, txts, scores, font_path='fonts/simfang.ttf')\n",
    "# im_show = Image.fromarray(im_show)\n",
    "# im_show.save('result.jpg')"
   ]
  },
  {
   "cell_type": "code",
   "execution_count": 9,
   "id": "24bb53af-b5c5-44c5-92d4-dbc99a3a3aac",
   "metadata": {},
   "outputs": [],
   "source": [
    "!open ."
   ]
  },
  {
   "cell_type": "code",
   "execution_count": 12,
   "id": "b58e52c5-c2cb-40b3-8d13-9befc266284b",
   "metadata": {},
   "outputs": [],
   "source": [
    "from pathlib import Path"
   ]
  },
  {
   "cell_type": "code",
   "execution_count": 13,
   "id": "a32e5afb-d995-4ad5-8604-32fca8c17ac3",
   "metadata": {},
   "outputs": [],
   "source": [
    "p = Path('ocr')"
   ]
  },
  {
   "cell_type": "code",
   "execution_count": 18,
   "id": "efe87078-b16b-4980-9f07-6720d9466aa0",
   "metadata": {},
   "outputs": [],
   "source": [
    "l = [i for i in p.iterdir() if i.suffix == '.png']"
   ]
  },
  {
   "cell_type": "code",
   "execution_count": 20,
   "id": "0a19bdf5-1438-4db8-9479-d5e88d2235ad",
   "metadata": {},
   "outputs": [],
   "source": [
    "l.sort()"
   ]
  },
  {
   "cell_type": "code",
   "execution_count": 21,
   "id": "846c6658-2c18-4099-aa78-63afee5748d4",
   "metadata": {},
   "outputs": [
    {
     "data": {
      "text/plain": [
       "[PosixPath('ocr/1.png'),\n",
       " PosixPath('ocr/10.png'),\n",
       " PosixPath('ocr/11.png'),\n",
       " PosixPath('ocr/12.png'),\n",
       " PosixPath('ocr/13.png'),\n",
       " PosixPath('ocr/14.png'),\n",
       " PosixPath('ocr/15.png'),\n",
       " PosixPath('ocr/16.png'),\n",
       " PosixPath('ocr/17.png'),\n",
       " PosixPath('ocr/18.png'),\n",
       " PosixPath('ocr/19.png'),\n",
       " PosixPath('ocr/2.png'),\n",
       " PosixPath('ocr/20.png'),\n",
       " PosixPath('ocr/21.png'),\n",
       " PosixPath('ocr/22.png'),\n",
       " PosixPath('ocr/23.png'),\n",
       " PosixPath('ocr/24.png'),\n",
       " PosixPath('ocr/25.png'),\n",
       " PosixPath('ocr/26.png'),\n",
       " PosixPath('ocr/3.png'),\n",
       " PosixPath('ocr/4.png'),\n",
       " PosixPath('ocr/5.png'),\n",
       " PosixPath('ocr/6.png'),\n",
       " PosixPath('ocr/7.png'),\n",
       " PosixPath('ocr/8.png'),\n",
       " PosixPath('ocr/9.png')]"
      ]
     },
     "execution_count": 21,
     "metadata": {},
     "output_type": "execute_result"
    }
   ],
   "source": [
    "l"
   ]
  },
  {
   "cell_type": "code",
   "execution_count": 24,
   "id": "74ec3eb2-dd4a-4d8c-9a28-f7932dfb0677",
   "metadata": {},
   "outputs": [
    {
     "name": "stdout",
     "output_type": "stream",
     "text": [
      "[2021/05/08 17:36:39] root INFO: dt_boxes num : 5, elapse : 0.8294589519500732\n",
      "[2021/05/08 17:36:39] root INFO: cls num  : 5, elapse : 0.0439600944519043\n",
      "[2021/05/08 17:36:39] root INFO: rec_res num  : 5, elapse : 0.04995584487915039\n",
      "ocr/1.png\n",
      "17.50\n",
      "12.00\n",
      "7.00\n",
      "3.00\n",
      "3.50\n",
      "[2021/05/08 17:36:39] root INFO: dt_boxes num : 3, elapse : 0.6464860439300537\n",
      "[2021/05/08 17:36:39] root INFO: cls num  : 3, elapse : 0.027000904083251953\n",
      "[2021/05/08 17:36:39] root INFO: rec_res num  : 3, elapse : 0.03185296058654785\n",
      "ocr/10.png\n",
      "17.94\n",
      "5.00\n",
      "4.50\n",
      "[2021/05/08 17:36:40] root INFO: dt_boxes num : 3, elapse : 0.5920600891113281\n",
      "[2021/05/08 17:36:40] root INFO: cls num  : 3, elapse : 0.026719093322753906\n",
      "[2021/05/08 17:36:40] root INFO: rec_res num  : 3, elapse : 0.0327150821685791\n",
      "ocr/11.png\n",
      "16.69\n",
      "14.00\n",
      "3.50\n",
      "[2021/05/08 17:36:42] root INFO: dt_boxes num : 6, elapse : 2.0160129070281982\n",
      "[2021/05/08 17:36:42] root INFO: cls num  : 6, elapse : 0.04912590980529785\n",
      "[2021/05/08 17:36:42] root INFO: rec_res num  : 6, elapse : 0.05663299560546875\n",
      "ocr/12.png\n",
      "14.00\n",
      "4.00\n",
      "3.50\n",
      "14.38\n",
      "4.00\n",
      "3.50\n",
      "[2021/05/08 17:36:45] root INFO: dt_boxes num : 8, elapse : 2.706439256668091\n",
      "[2021/05/08 17:36:45] root INFO: cls num  : 8, elapse : 0.061739206314086914\n",
      "[2021/05/08 17:36:45] root INFO: rec_res num  : 8, elapse : 0.07783937454223633\n",
      "ocr/13.png\n",
      "9.90\n",
      "10.00\n",
      "84.00\n",
      "2.00\n",
      "11.00\n",
      "170.00\n",
      "42.00\n",
      "20.00\n",
      "[2021/05/08 17:36:47] root INFO: dt_boxes num : 5, elapse : 1.4133350849151611\n",
      "[2021/05/08 17:36:47] root INFO: cls num  : 5, elapse : 0.042755842208862305\n",
      "[2021/05/08 17:36:47] root INFO: rec_res num  : 5, elapse : 0.05616307258605957\n",
      "ocr/14.png\n",
      "23.55\n",
      "29.96\n",
      "27.00\n",
      "16.40\n",
      "41.53\n",
      "[2021/05/08 17:36:48] root INFO: dt_boxes num : 5, elapse : 1.3940098285675049\n",
      "[2021/05/08 17:36:48] root INFO: cls num  : 5, elapse : 0.0435640811920166\n",
      "[2021/05/08 17:36:48] root INFO: rec_res num  : 5, elapse : 0.04725813865661621\n",
      "ocr/15.png\n",
      "7.00\n",
      "1.50\n",
      "15.88\n",
      "1.00\n",
      "3.50\n",
      "[2021/05/08 17:36:50] root INFO: dt_boxes num : 5, elapse : 1.4479529857635498\n",
      "[2021/05/08 17:36:50] root INFO: cls num  : 5, elapse : 0.042730093002319336\n",
      "[2021/05/08 17:36:50] root INFO: rec_res num  : 5, elapse : 0.040364980697631836\n",
      "ocr/16.png\n",
      "1.00\n",
      "5.00\n",
      "6.00\n",
      "4.00\n",
      "3.50\n",
      "[2021/05/08 17:36:51] root INFO: dt_boxes num : 4, elapse : 1.1615653038024902\n",
      "[2021/05/08 17:36:51] root INFO: cls num  : 4, elapse : 0.03429293632507324\n",
      "[2021/05/08 17:36:51] root INFO: rec_res num  : 4, elapse : 0.04025006294250488\n",
      "ocr/17.png\n",
      "2.99\n",
      "15.50\n",
      "4.00\n",
      "3.50\n",
      "[2021/05/08 17:36:54] root INFO: dt_boxes num : 6, elapse : 2.116791009902954\n",
      "[2021/05/08 17:36:54] root INFO: cls num  : 6, elapse : 0.04752993583679199\n",
      "[2021/05/08 17:36:54] root INFO: rec_res num  : 6, elapse : 0.05478501319885254\n",
      "ocr/18.png\n",
      "15.40\n",
      "4.00\n",
      "3.50\n",
      "15.06\n",
      "1.00\n",
      "3.50\n",
      "[2021/05/08 17:36:56] root INFO: dt_boxes num : 7, elapse : 2.50801682472229\n",
      "[2021/05/08 17:36:56] root INFO: cls num  : 7, elapse : 0.05707812309265137\n",
      "[2021/05/08 17:36:56] root INFO: rec_res num  : 7, elapse : 0.07324719429016113\n",
      "ocr/19.png\n",
      "39.07\n",
      "1.80\n",
      "3.60\n",
      "1.50\n",
      "12.00\n",
      "1.00\n",
      "3.50\n",
      "[2021/05/08 17:36:57] root INFO: dt_boxes num : 4, elapse : 0.6676268577575684\n",
      "[2021/05/08 17:36:57] root INFO: cls num  : 4, elapse : 0.03343677520751953\n",
      "[2021/05/08 17:36:57] root INFO: rec_res num  : 4, elapse : 0.03406095504760742\n",
      "ocr/2.png\n",
      "3.00\n",
      "12.45\n",
      "3.00\n",
      "3.50\n",
      "[2021/05/08 17:36:59] root INFO: dt_boxes num : 5, elapse : 1.5023622512817383\n",
      "[2021/05/08 17:36:59] root INFO: cls num  : 5, elapse : 0.042304039001464844\n",
      "[2021/05/08 17:36:59] root INFO: rec_res num  : 5, elapse : 0.05129218101501465\n",
      "ocr/20.png\n",
      "1.00\n",
      "15.00\n",
      "35.00\n",
      "5.00\n",
      "3.50\n",
      "[2021/05/08 17:37:00] root INFO: dt_boxes num : 3, elapse : 0.7112300395965576\n",
      "[2021/05/08 17:37:00] root INFO: cls num  : 3, elapse : 0.02610921859741211\n",
      "[2021/05/08 17:37:00] root INFO: rec_res num  : 3, elapse : 0.02989816665649414\n",
      "ocr/21.png\n",
      "10.99\n",
      "5.00\n",
      "3.50\n",
      "[2021/05/08 17:37:03] root INFO: dt_boxes num : 8, elapse : 3.138411045074463\n",
      "[2021/05/08 17:37:03] root INFO: cls num  : 8, elapse : 0.06853580474853516\n",
      "[2021/05/08 17:37:03] root INFO: rec_res num  : 8, elapse : 0.085540771484375\n",
      "ocr/22.png\n",
      "16.66\n",
      "26.40\n",
      "1.00\n",
      "19.90\n",
      "10.90\n",
      "9.90\n",
      "16.26\n",
      "6.00\n",
      "[2021/05/08 17:37:05] root INFO: dt_boxes num : 6, elapse : 1.9764578342437744\n",
      "[2021/05/08 17:37:05] root INFO: cls num  : 6, elapse : 0.05291914939880371\n",
      "[2021/05/08 17:37:05] root INFO: rec_res num  : 6, elapse : 0.06646919250488281\n",
      "ocr/23.png\n",
      "2.00\n",
      "3.60\n",
      "3.00\n",
      "12.00\n",
      "2.00\n",
      "48.00\n",
      "[2021/05/08 17:37:09] root INFO: dt_boxes num : 9, elapse : 3.4465250968933105\n",
      "[2021/05/08 17:37:09] root INFO: cls num  : 9, elapse : 0.06647515296936035\n",
      "[2021/05/08 17:37:09] root INFO: rec_res num  : 9, elapse : 0.0875558853149414\n",
      "ocr/24.png\n",
      "2.00\n",
      "200.00\n",
      "2.00\n",
      "60.00\n",
      "12.00\n",
      "4.00\n",
      "5.50\n",
      "3.00\n",
      "389.00\n",
      "[2021/05/08 17:37:13] root INFO: dt_boxes num : 8, elapse : 3.308762788772583\n",
      "[2021/05/08 17:37:13] root INFO: cls num  : 8, elapse : 0.06000995635986328\n",
      "[2021/05/08 17:37:13] root INFO: rec_res num  : 8, elapse : 0.09119176864624023\n",
      "ocr/25.png\n",
      "47.00\n",
      "47.00\n",
      "40.00\n",
      "4.50\n",
      "2.00\n",
      "13.66\n",
      "5.00\n",
      "3.50\n",
      "[2021/05/08 17:37:14] root INFO: dt_boxes num : 5, elapse : 1.4625318050384521\n",
      "[2021/05/08 17:37:14] root INFO: cls num  : 5, elapse : 0.040606021881103516\n",
      "[2021/05/08 17:37:14] root INFO: rec_res num  : 5, elapse : 0.055666208267211914\n",
      "ocr/26.png\n",
      "348.00\n",
      "14.90\n",
      "0.14\n",
      "5.00\n",
      "3.50\n",
      "[2021/05/08 17:37:15] root INFO: dt_boxes num : 5, elapse : 0.7787771224975586\n",
      "[2021/05/08 17:37:15] root INFO: cls num  : 5, elapse : 0.04113888740539551\n",
      "[2021/05/08 17:37:15] root INFO: rec_res num  : 5, elapse : 0.04951214790344238\n",
      "ocr/3.png\n",
      "51.60\n",
      "3.00\n",
      "14.53\n",
      "4.00\n",
      "3.50\n",
      "[2021/05/08 17:37:16] root INFO: dt_boxes num : 3, elapse : 0.532879114151001\n",
      "[2021/05/08 17:37:16] root INFO: cls num  : 3, elapse : 0.027096033096313477\n",
      "[2021/05/08 17:37:16] root INFO: rec_res num  : 3, elapse : 0.03303813934326172\n",
      "ocr/4.png\n",
      "16.00\n",
      "5.00\n",
      "4.50\n",
      "[2021/05/08 17:37:16] root INFO: dt_boxes num : 3, elapse : 0.5288791656494141\n",
      "[2021/05/08 17:37:16] root INFO: cls num  : 3, elapse : 0.026957988739013672\n",
      "[2021/05/08 17:37:16] root INFO: rec_res num  : 3, elapse : 0.03031182289123535\n",
      "ocr/5.png\n",
      "17.94\n",
      "4.00\n",
      "3.50\n",
      "[2021/05/08 17:37:17] root INFO: dt_boxes num : 4, elapse : 0.7512619495391846\n",
      "[2021/05/08 17:37:17] root INFO: cls num  : 4, elapse : 0.03489041328430176\n",
      "[2021/05/08 17:37:17] root INFO: rec_res num  : 4, elapse : 0.03767991065979004\n",
      "ocr/6.png\n",
      "14.47\n",
      "3.00\n",
      "4.88\n",
      "3.50\n",
      "[2021/05/08 17:37:18] root INFO: dt_boxes num : 3, elapse : 0.6373200416564941\n",
      "[2021/05/08 17:37:18] root INFO: cls num  : 3, elapse : 0.02693009376525879\n",
      "[2021/05/08 17:37:18] root INFO: rec_res num  : 3, elapse : 0.03519582748413086\n",
      "ocr/7.png\n",
      "31.25\n",
      "5.00\n",
      "47.60\n",
      "[2021/05/08 17:37:19] root INFO: dt_boxes num : 4, elapse : 1.1644468307495117\n",
      "[2021/05/08 17:37:19] root INFO: cls num  : 4, elapse : 0.034349679946899414\n",
      "[2021/05/08 17:37:19] root INFO: rec_res num  : 4, elapse : 0.041625022888183594\n",
      "ocr/8.png\n",
      "3.00\n",
      "16.00\n",
      "10.00\n",
      "9.90\n",
      "[2021/05/08 17:37:20] root INFO: dt_boxes num : 2, elapse : 0.3756368160247803\n",
      "[2021/05/08 17:37:20] root INFO: cls num  : 2, elapse : 0.018499135971069336\n",
      "[2021/05/08 17:37:20] root INFO: rec_res num  : 2, elapse : 0.020419836044311523\n",
      "ocr/9.png\n",
      "4.00\n",
      "3.50\n",
      "2588.58\n"
     ]
    }
   ],
   "source": [
    "sum = 0.0\n",
    "for item in l:\n",
    "    result = ocr.ocr(str(item), cls=True)\n",
    "    print(str(item))\n",
    "    txts = [line[1][0] for line in result]\n",
    "    # for line in result:\n",
    "    #     print(line)\n",
    "    for txt in txts:\n",
    "        print(txt)\n",
    "        sum += float(txt)\n",
    "print(f'sum = {sum}')"
   ]
  },
  {
   "cell_type": "code",
   "execution_count": null,
   "id": "f177d9ff-3ee3-48a8-9666-2d177cd95c1f",
   "metadata": {},
   "outputs": [],
   "source": []
  }
 ],
 "metadata": {
  "kernelspec": {
   "display_name": "Python 3",
   "language": "python",
   "name": "python3"
  },
  "language_info": {
   "codemirror_mode": {
    "name": "ipython",
    "version": 3
   },
   "file_extension": ".py",
   "mimetype": "text/x-python",
   "name": "python",
   "nbconvert_exporter": "python",
   "pygments_lexer": "ipython3",
   "version": "3.7.10"
  }
 },
 "nbformat": 4,
 "nbformat_minor": 5
}
